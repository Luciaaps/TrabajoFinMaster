{
 "cells": [
  {
   "cell_type": "code",
   "execution_count": null,
   "metadata": {},
   "outputs": [],
   "source": [
    "import os\n",
    "import random\n",
    "import shutil\n",
    "import tempfile\n",
    "import torch\n",
    "from pytorch_fid import fid_score\n",
    "from PIL import Image\n",
    "from torchvision import transforms\n",
    "import numpy as np\n",
    "\n",
    "def redimensionar_imagenes(ruta, tamano=(299, 299)):\n",
    "    \"\"\"Redimensiona todas las imágenes en una ruta dada a un tamaño específico.\"\"\"\n",
    "    transform = transforms.Resize(tamano)\n",
    "    imagenes = [os.path.join(ruta, f) for f in os.listdir(ruta) if f.lower().endswith(('png', 'jpg', 'jpeg'))]\n",
    "    for img_path in imagenes:\n",
    "        try:\n",
    "            img = Image.open(img_path).convert('RGB')  # Asegura que sean RGB\n",
    "            img_redimensionada = transform(img)\n",
    "            img_redimensionada.save(img_path)\n",
    "        except Exception as e:\n",
    "            print(f\"Error al redimensionar {img_path}: {e}\")\n",
    "\n",
    "def calcular_fid_aleatorio(ruta1, ruta2, num_grupos=20, tamano_grupo=200):\n",
    "    # Redimensionar imágenes en ambas rutas\n",
    "    redimensionar_imagenes(ruta1)\n",
    "    redimensionar_imagenes(ruta2)\n",
    "\n",
    "    imagenes_ruta1 = [os.path.join(ruta1, f) for f in os.listdir(ruta1) if f.lower().endswith(('png', 'jpg', 'jpeg'))]\n",
    "    imagenes_ruta2 = [os.path.join(ruta2, f) for f in os.listdir(ruta2) if f.lower().endswith(('png', 'jpg', 'jpeg'))]\n",
    "\n",
    "    if len(imagenes_ruta1) == 0:\n",
    "        raise ValueError(f\"No se encontraron imágenes en {ruta1}\")\n",
    "    if len(imagenes_ruta2) < tamano_grupo:\n",
    "        raise ValueError(f\"No hay suficientes imágenes en {ruta2} para formar un grupo de tamaño {tamano_grupo}\")\n",
    "\n",
    "    fids = []\n",
    "    for i in range(num_grupos):\n",
    "        with tempfile.TemporaryDirectory() as temp_dir:\n",
    "            grupo_aleatorio = random.sample(imagenes_ruta2, tamano_grupo)\n",
    "            for img in grupo_aleatorio:\n",
    "                shutil.copy(img, temp_dir)\n",
    "\n",
    "            fid_value = fid_score.calculate_fid_given_paths([ruta1, temp_dir],\n",
    "                                                            batch_size=50,\n",
    "                                                            device=torch.device('cuda' if torch.cuda.is_available() else 'cpu'),\n",
    "                                                            dims=2048,\n",
    "                                                            num_workers=0)\n",
    "            fids.append(fid_value)\n",
    "            print(f\"FID para el grupo {i+1}: {fid_value}\")\n",
    "\n",
    "    return fids"
   ]
  },
  {
   "cell_type": "markdown",
   "metadata": {},
   "source": [
    "# generadas_huggingfaces inicial"
   ]
  },
  {
   "cell_type": "code",
   "execution_count": 2,
   "metadata": {},
   "outputs": [
    {
     "name": "stderr",
     "output_type": "stream",
     "text": [
      "100%|██████████| 3/3 [00:37<00:00, 12.41s/it]\n",
      "100%|██████████| 4/4 [00:52<00:00, 13.05s/it]\n"
     ]
    },
    {
     "name": "stdout",
     "output_type": "stream",
     "text": [
      "FID para el grupo 1: 212.40597285916743\n"
     ]
    },
    {
     "name": "stderr",
     "output_type": "stream",
     "text": [
      "100%|██████████| 3/3 [00:27<00:00,  9.07s/it]\n",
      "100%|██████████| 4/4 [00:40<00:00, 10.06s/it]\n"
     ]
    },
    {
     "name": "stdout",
     "output_type": "stream",
     "text": [
      "FID para el grupo 2: 203.64266760585605\n"
     ]
    },
    {
     "name": "stderr",
     "output_type": "stream",
     "text": [
      "100%|██████████| 3/3 [00:26<00:00,  8.98s/it]\n",
      "100%|██████████| 4/4 [00:43<00:00, 10.99s/it]\n"
     ]
    },
    {
     "name": "stdout",
     "output_type": "stream",
     "text": [
      "FID para el grupo 3: 199.74327478563302\n"
     ]
    },
    {
     "name": "stderr",
     "output_type": "stream",
     "text": [
      "100%|██████████| 3/3 [00:24<00:00,  8.20s/it]\n",
      "100%|██████████| 4/4 [00:37<00:00,  9.29s/it]\n"
     ]
    },
    {
     "name": "stdout",
     "output_type": "stream",
     "text": [
      "FID para el grupo 4: 210.83555179555623\n"
     ]
    },
    {
     "name": "stderr",
     "output_type": "stream",
     "text": [
      "100%|██████████| 3/3 [00:22<00:00,  7.50s/it]\n",
      "100%|██████████| 4/4 [00:37<00:00,  9.36s/it]\n"
     ]
    },
    {
     "name": "stdout",
     "output_type": "stream",
     "text": [
      "FID para el grupo 5: 204.73546287893822\n"
     ]
    },
    {
     "name": "stderr",
     "output_type": "stream",
     "text": [
      "100%|██████████| 3/3 [00:20<00:00,  6.95s/it]\n",
      "100%|██████████| 4/4 [00:33<00:00,  8.37s/it]\n"
     ]
    },
    {
     "name": "stdout",
     "output_type": "stream",
     "text": [
      "FID para el grupo 6: 207.00284996985985\n"
     ]
    },
    {
     "name": "stderr",
     "output_type": "stream",
     "text": [
      "100%|██████████| 3/3 [00:20<00:00,  6.75s/it]\n",
      "100%|██████████| 4/4 [00:34<00:00,  8.64s/it]\n"
     ]
    },
    {
     "name": "stdout",
     "output_type": "stream",
     "text": [
      "FID para el grupo 7: 198.894066778624\n"
     ]
    },
    {
     "name": "stderr",
     "output_type": "stream",
     "text": [
      "100%|██████████| 3/3 [00:29<00:00,  9.81s/it]\n",
      "100%|██████████| 4/4 [00:33<00:00,  8.47s/it]\n"
     ]
    },
    {
     "name": "stdout",
     "output_type": "stream",
     "text": [
      "FID para el grupo 8: 209.9262587670479\n"
     ]
    },
    {
     "name": "stderr",
     "output_type": "stream",
     "text": [
      "100%|██████████| 3/3 [00:18<00:00,  6.17s/it]\n",
      "100%|██████████| 4/4 [00:35<00:00,  8.83s/it]\n"
     ]
    },
    {
     "name": "stdout",
     "output_type": "stream",
     "text": [
      "FID para el grupo 9: 209.37367538617775\n"
     ]
    },
    {
     "name": "stderr",
     "output_type": "stream",
     "text": [
      "100%|██████████| 3/3 [00:22<00:00,  7.48s/it]\n",
      "100%|██████████| 4/4 [00:35<00:00,  8.87s/it]\n"
     ]
    },
    {
     "name": "stdout",
     "output_type": "stream",
     "text": [
      "FID para el grupo 10: 211.98832302161895\n"
     ]
    },
    {
     "name": "stderr",
     "output_type": "stream",
     "text": [
      "100%|██████████| 3/3 [00:22<00:00,  7.38s/it]\n",
      "100%|██████████| 4/4 [00:34<00:00,  8.71s/it]\n"
     ]
    },
    {
     "name": "stdout",
     "output_type": "stream",
     "text": [
      "FID para el grupo 11: 211.2577541479938\n"
     ]
    },
    {
     "name": "stderr",
     "output_type": "stream",
     "text": [
      "100%|██████████| 3/3 [00:22<00:00,  7.66s/it]\n",
      "100%|██████████| 4/4 [00:35<00:00,  8.87s/it]\n"
     ]
    },
    {
     "name": "stdout",
     "output_type": "stream",
     "text": [
      "FID para el grupo 12: 211.47031179144656\n"
     ]
    },
    {
     "name": "stderr",
     "output_type": "stream",
     "text": [
      "100%|██████████| 3/3 [00:22<00:00,  7.65s/it]\n",
      "100%|██████████| 4/4 [00:38<00:00,  9.67s/it]\n"
     ]
    },
    {
     "name": "stdout",
     "output_type": "stream",
     "text": [
      "FID para el grupo 13: 200.47675912215988\n"
     ]
    },
    {
     "name": "stderr",
     "output_type": "stream",
     "text": [
      "100%|██████████| 3/3 [00:22<00:00,  7.61s/it]\n",
      "100%|██████████| 4/4 [00:35<00:00,  8.90s/it]\n"
     ]
    },
    {
     "name": "stdout",
     "output_type": "stream",
     "text": [
      "FID para el grupo 14: 203.50156916710517\n"
     ]
    },
    {
     "name": "stderr",
     "output_type": "stream",
     "text": [
      "100%|██████████| 3/3 [00:22<00:00,  7.33s/it]\n",
      "100%|██████████| 4/4 [00:34<00:00,  8.74s/it]\n"
     ]
    },
    {
     "name": "stdout",
     "output_type": "stream",
     "text": [
      "FID para el grupo 15: 206.85282076808193\n"
     ]
    },
    {
     "name": "stderr",
     "output_type": "stream",
     "text": [
      "100%|██████████| 3/3 [00:21<00:00,  7.30s/it]\n",
      "100%|██████████| 4/4 [00:34<00:00,  8.66s/it]\n"
     ]
    },
    {
     "name": "stdout",
     "output_type": "stream",
     "text": [
      "FID para el grupo 16: 206.79641575164987\n"
     ]
    },
    {
     "name": "stderr",
     "output_type": "stream",
     "text": [
      "100%|██████████| 3/3 [00:22<00:00,  7.37s/it]\n",
      "100%|██████████| 4/4 [00:35<00:00,  8.77s/it]\n"
     ]
    },
    {
     "name": "stdout",
     "output_type": "stream",
     "text": [
      "FID para el grupo 17: 208.59536902288147\n"
     ]
    },
    {
     "name": "stderr",
     "output_type": "stream",
     "text": [
      "100%|██████████| 3/3 [00:21<00:00,  7.21s/it]\n",
      "100%|██████████| 4/4 [00:34<00:00,  8.70s/it]\n"
     ]
    },
    {
     "name": "stdout",
     "output_type": "stream",
     "text": [
      "FID para el grupo 18: 207.12182652549\n"
     ]
    },
    {
     "name": "stderr",
     "output_type": "stream",
     "text": [
      "100%|██████████| 3/3 [00:21<00:00,  7.19s/it]\n",
      "100%|██████████| 4/4 [00:34<00:00,  8.66s/it]\n"
     ]
    },
    {
     "name": "stdout",
     "output_type": "stream",
     "text": [
      "FID para el grupo 19: 205.59452221738738\n"
     ]
    },
    {
     "name": "stderr",
     "output_type": "stream",
     "text": [
      "100%|██████████| 3/3 [00:21<00:00,  7.30s/it]\n",
      "100%|██████████| 4/4 [00:35<00:00,  8.76s/it]\n"
     ]
    },
    {
     "name": "stdout",
     "output_type": "stream",
     "text": [
      "FID para el grupo 20: 205.14780222500224\n",
      "FID medio: 206.77 ± 3.99\n"
     ]
    }
   ],
   "source": [
    "if __name__ == \"__main__\":\n",
    "    ruta1 = \"original_inicial\"\n",
    "    ruta2 = \"generadas_huggingfaces/inicial\"\n",
    "\n",
    "    fids_hf_ini = calcular_fid_aleatorio(ruta1, ruta2)\n",
    "\n",
    "    fid_medio = np.mean(fids_hf_ini)\n",
    "    fid_std = np.std(fids_hf_ini)\n",
    "\n",
    "    print(f\"FID medio: {fid_medio:.2f} ± {fid_std:.2f}\")"
   ]
  },
  {
   "cell_type": "markdown",
   "metadata": {},
   "source": [
    "# generadas_huggingfaces avanzado"
   ]
  },
  {
   "cell_type": "code",
   "execution_count": 3,
   "metadata": {},
   "outputs": [
    {
     "name": "stderr",
     "output_type": "stream",
     "text": [
      "100%|██████████| 3/3 [00:23<00:00,  7.75s/it]\n",
      "100%|██████████| 4/4 [00:35<00:00,  8.85s/it]\n"
     ]
    },
    {
     "name": "stdout",
     "output_type": "stream",
     "text": [
      "FID para el grupo 1: 194.65735609180206\n"
     ]
    },
    {
     "name": "stderr",
     "output_type": "stream",
     "text": [
      "100%|██████████| 3/3 [00:22<00:00,  7.35s/it]\n",
      "100%|██████████| 4/4 [00:34<00:00,  8.72s/it]\n"
     ]
    },
    {
     "name": "stdout",
     "output_type": "stream",
     "text": [
      "FID para el grupo 2: 190.7941856228024\n"
     ]
    },
    {
     "name": "stderr",
     "output_type": "stream",
     "text": [
      "100%|██████████| 3/3 [00:21<00:00,  7.21s/it]\n",
      "100%|██████████| 4/4 [00:34<00:00,  8.74s/it]\n"
     ]
    },
    {
     "name": "stdout",
     "output_type": "stream",
     "text": [
      "FID para el grupo 3: 197.50317113323692\n"
     ]
    },
    {
     "name": "stderr",
     "output_type": "stream",
     "text": [
      "100%|██████████| 3/3 [00:21<00:00,  7.14s/it]\n",
      "100%|██████████| 4/4 [00:34<00:00,  8.65s/it]\n"
     ]
    },
    {
     "name": "stdout",
     "output_type": "stream",
     "text": [
      "FID para el grupo 4: 193.76085546280677\n"
     ]
    },
    {
     "name": "stderr",
     "output_type": "stream",
     "text": [
      "100%|██████████| 3/3 [00:21<00:00,  7.32s/it]\n",
      "100%|██████████| 4/4 [00:34<00:00,  8.61s/it]\n"
     ]
    },
    {
     "name": "stdout",
     "output_type": "stream",
     "text": [
      "FID para el grupo 5: 194.86229539900637\n"
     ]
    },
    {
     "name": "stderr",
     "output_type": "stream",
     "text": [
      "100%|██████████| 3/3 [00:21<00:00,  7.14s/it]\n",
      "100%|██████████| 4/4 [00:33<00:00,  8.45s/it]\n"
     ]
    },
    {
     "name": "stdout",
     "output_type": "stream",
     "text": [
      "FID para el grupo 6: 198.9244279749718\n"
     ]
    },
    {
     "name": "stderr",
     "output_type": "stream",
     "text": [
      "100%|██████████| 3/3 [00:21<00:00,  7.26s/it]\n",
      "100%|██████████| 4/4 [00:34<00:00,  8.67s/it]\n"
     ]
    },
    {
     "name": "stdout",
     "output_type": "stream",
     "text": [
      "FID para el grupo 7: 193.80420614898944\n"
     ]
    },
    {
     "name": "stderr",
     "output_type": "stream",
     "text": [
      "100%|██████████| 3/3 [00:21<00:00,  7.18s/it]\n",
      "100%|██████████| 4/4 [00:34<00:00,  8.65s/it]\n"
     ]
    },
    {
     "name": "stdout",
     "output_type": "stream",
     "text": [
      "FID para el grupo 8: 195.8889838867051\n"
     ]
    },
    {
     "name": "stderr",
     "output_type": "stream",
     "text": [
      "100%|██████████| 3/3 [00:22<00:00,  7.36s/it]\n",
      "100%|██████████| 4/4 [00:35<00:00,  8.78s/it]\n"
     ]
    },
    {
     "name": "stdout",
     "output_type": "stream",
     "text": [
      "FID para el grupo 9: 193.00611570870774\n"
     ]
    },
    {
     "name": "stderr",
     "output_type": "stream",
     "text": [
      "100%|██████████| 3/3 [00:21<00:00,  7.26s/it]\n",
      "100%|██████████| 4/4 [00:34<00:00,  8.66s/it]\n"
     ]
    },
    {
     "name": "stdout",
     "output_type": "stream",
     "text": [
      "FID para el grupo 10: 193.33432245998392\n"
     ]
    },
    {
     "name": "stderr",
     "output_type": "stream",
     "text": [
      "100%|██████████| 3/3 [00:21<00:00,  7.29s/it]\n",
      "100%|██████████| 4/4 [00:34<00:00,  8.74s/it]\n"
     ]
    },
    {
     "name": "stdout",
     "output_type": "stream",
     "text": [
      "FID para el grupo 11: 193.75145313076266\n"
     ]
    },
    {
     "name": "stderr",
     "output_type": "stream",
     "text": [
      "100%|██████████| 3/3 [00:21<00:00,  7.23s/it]\n",
      "100%|██████████| 4/4 [00:34<00:00,  8.56s/it]\n"
     ]
    },
    {
     "name": "stdout",
     "output_type": "stream",
     "text": [
      "FID para el grupo 12: 193.62761117312994\n"
     ]
    },
    {
     "name": "stderr",
     "output_type": "stream",
     "text": [
      "100%|██████████| 3/3 [00:21<00:00,  7.25s/it]\n",
      "100%|██████████| 4/4 [00:34<00:00,  8.64s/it]\n"
     ]
    },
    {
     "name": "stdout",
     "output_type": "stream",
     "text": [
      "FID para el grupo 13: 193.18863304772643\n"
     ]
    },
    {
     "name": "stderr",
     "output_type": "stream",
     "text": [
      "100%|██████████| 3/3 [00:21<00:00,  7.23s/it]\n",
      "100%|██████████| 4/4 [00:34<00:00,  8.60s/it]\n"
     ]
    },
    {
     "name": "stdout",
     "output_type": "stream",
     "text": [
      "FID para el grupo 14: 192.03603992035494\n"
     ]
    },
    {
     "name": "stderr",
     "output_type": "stream",
     "text": [
      "100%|██████████| 3/3 [00:21<00:00,  7.16s/it]\n",
      "100%|██████████| 4/4 [00:34<00:00,  8.56s/it]\n"
     ]
    },
    {
     "name": "stdout",
     "output_type": "stream",
     "text": [
      "FID para el grupo 15: 192.8125585261801\n"
     ]
    },
    {
     "name": "stderr",
     "output_type": "stream",
     "text": [
      "100%|██████████| 3/3 [00:21<00:00,  7.21s/it]\n",
      "100%|██████████| 4/4 [00:34<00:00,  8.61s/it]\n"
     ]
    },
    {
     "name": "stdout",
     "output_type": "stream",
     "text": [
      "FID para el grupo 16: 195.1540252849383\n"
     ]
    },
    {
     "name": "stderr",
     "output_type": "stream",
     "text": [
      "100%|██████████| 3/3 [00:21<00:00,  7.20s/it]\n",
      "100%|██████████| 4/4 [00:34<00:00,  8.74s/it]\n"
     ]
    },
    {
     "name": "stdout",
     "output_type": "stream",
     "text": [
      "FID para el grupo 17: 192.7664316930698\n"
     ]
    },
    {
     "name": "stderr",
     "output_type": "stream",
     "text": [
      "100%|██████████| 3/3 [00:21<00:00,  7.16s/it]\n",
      "100%|██████████| 4/4 [00:34<00:00,  8.64s/it]\n"
     ]
    },
    {
     "name": "stdout",
     "output_type": "stream",
     "text": [
      "FID para el grupo 18: 195.22571511752835\n"
     ]
    },
    {
     "name": "stderr",
     "output_type": "stream",
     "text": [
      "100%|██████████| 3/3 [00:21<00:00,  7.21s/it]\n",
      "100%|██████████| 4/4 [00:34<00:00,  8.53s/it]\n"
     ]
    },
    {
     "name": "stdout",
     "output_type": "stream",
     "text": [
      "FID para el grupo 19: 198.52628345664084\n"
     ]
    },
    {
     "name": "stderr",
     "output_type": "stream",
     "text": [
      "100%|██████████| 3/3 [00:21<00:00,  7.09s/it]\n",
      "100%|██████████| 4/4 [00:37<00:00,  9.30s/it]\n"
     ]
    },
    {
     "name": "stdout",
     "output_type": "stream",
     "text": [
      "FID para el grupo 20: 190.7961177546636\n",
      "FID medio: 194.22 ± 2.16\n"
     ]
    }
   ],
   "source": [
    "if __name__ == \"__main__\":\n",
    "    ruta1 = \"original_avanzado\"\n",
    "    ruta2 = \"generadas_huggingfaces/avanzado\"\n",
    "\n",
    "    fids_hf_adv = calcular_fid_aleatorio(ruta1, ruta2)\n",
    "\n",
    "    fid_medio = np.mean(fids_hf_adv)\n",
    "    fid_std = np.std(fids_hf_adv)\n",
    "\n",
    "    print(f\"FID medio: {fid_medio:.2f} ± {fid_std:.2f}\")"
   ]
  },
  {
   "cell_type": "markdown",
   "metadata": {},
   "source": [
    "# generadas_ddim inicial"
   ]
  },
  {
   "cell_type": "code",
   "execution_count": 4,
   "metadata": {},
   "outputs": [
    {
     "name": "stderr",
     "output_type": "stream",
     "text": [
      "100%|██████████| 3/3 [00:38<00:00, 12.80s/it]\n",
      "100%|██████████| 4/4 [00:58<00:00, 14.58s/it]\n"
     ]
    },
    {
     "name": "stdout",
     "output_type": "stream",
     "text": [
      "FID para el grupo 1: 197.24777858112134\n"
     ]
    },
    {
     "name": "stderr",
     "output_type": "stream",
     "text": [
      "100%|██████████| 3/3 [00:36<00:00, 12.15s/it]\n",
      "100%|██████████| 4/4 [00:58<00:00, 14.73s/it]\n"
     ]
    },
    {
     "name": "stdout",
     "output_type": "stream",
     "text": [
      "FID para el grupo 2: 195.69799567798603\n"
     ]
    },
    {
     "name": "stderr",
     "output_type": "stream",
     "text": [
      "100%|██████████| 3/3 [00:32<00:00, 10.80s/it]\n",
      "100%|██████████| 4/4 [00:53<00:00, 13.27s/it]\n"
     ]
    },
    {
     "name": "stdout",
     "output_type": "stream",
     "text": [
      "FID para el grupo 3: 195.03299818224988\n"
     ]
    },
    {
     "name": "stderr",
     "output_type": "stream",
     "text": [
      "100%|██████████| 3/3 [00:34<00:00, 11.44s/it]\n",
      "100%|██████████| 4/4 [00:57<00:00, 14.49s/it]\n"
     ]
    },
    {
     "name": "stdout",
     "output_type": "stream",
     "text": [
      "FID para el grupo 4: 198.88626825224404\n"
     ]
    },
    {
     "name": "stderr",
     "output_type": "stream",
     "text": [
      "100%|██████████| 3/3 [00:35<00:00, 11.88s/it]\n",
      "100%|██████████| 4/4 [00:57<00:00, 14.49s/it]\n"
     ]
    },
    {
     "name": "stdout",
     "output_type": "stream",
     "text": [
      "FID para el grupo 5: 193.37362212480787\n"
     ]
    },
    {
     "name": "stderr",
     "output_type": "stream",
     "text": [
      "100%|██████████| 3/3 [00:34<00:00, 11.57s/it]\n",
      "100%|██████████| 4/4 [00:54<00:00, 13.72s/it]\n"
     ]
    },
    {
     "name": "stdout",
     "output_type": "stream",
     "text": [
      "FID para el grupo 6: 191.8463915700764\n"
     ]
    },
    {
     "name": "stderr",
     "output_type": "stream",
     "text": [
      "100%|██████████| 3/3 [00:35<00:00, 11.84s/it]\n",
      "100%|██████████| 4/4 [00:57<00:00, 14.34s/it]\n"
     ]
    },
    {
     "name": "stdout",
     "output_type": "stream",
     "text": [
      "FID para el grupo 7: 193.47618624583805\n"
     ]
    },
    {
     "name": "stderr",
     "output_type": "stream",
     "text": [
      "100%|██████████| 3/3 [00:35<00:00, 11.88s/it]\n",
      "100%|██████████| 4/4 [00:57<00:00, 14.28s/it]\n"
     ]
    },
    {
     "name": "stdout",
     "output_type": "stream",
     "text": [
      "FID para el grupo 8: 194.95258839582823\n"
     ]
    },
    {
     "name": "stderr",
     "output_type": "stream",
     "text": [
      "100%|██████████| 3/3 [00:35<00:00, 11.81s/it]\n",
      "100%|██████████| 4/4 [00:56<00:00, 14.25s/it]\n"
     ]
    },
    {
     "name": "stdout",
     "output_type": "stream",
     "text": [
      "FID para el grupo 9: 196.15213178131728\n"
     ]
    },
    {
     "name": "stderr",
     "output_type": "stream",
     "text": [
      "100%|██████████| 3/3 [00:35<00:00, 11.78s/it]\n",
      "100%|██████████| 4/4 [00:57<00:00, 14.27s/it]\n"
     ]
    },
    {
     "name": "stdout",
     "output_type": "stream",
     "text": [
      "FID para el grupo 10: 196.20141922767533\n"
     ]
    },
    {
     "name": "stderr",
     "output_type": "stream",
     "text": [
      "100%|██████████| 3/3 [00:35<00:00, 11.89s/it]\n",
      "100%|██████████| 4/4 [00:57<00:00, 14.35s/it]\n"
     ]
    },
    {
     "name": "stdout",
     "output_type": "stream",
     "text": [
      "FID para el grupo 11: 196.48656590010089\n"
     ]
    },
    {
     "name": "stderr",
     "output_type": "stream",
     "text": [
      "100%|██████████| 3/3 [00:35<00:00, 11.92s/it]\n",
      "100%|██████████| 4/4 [00:56<00:00, 14.25s/it]\n"
     ]
    },
    {
     "name": "stdout",
     "output_type": "stream",
     "text": [
      "FID para el grupo 12: 201.56044258041362\n"
     ]
    },
    {
     "name": "stderr",
     "output_type": "stream",
     "text": [
      "100%|██████████| 3/3 [00:36<00:00, 12.09s/it]\n",
      "100%|██████████| 4/4 [00:57<00:00, 14.42s/it]\n"
     ]
    },
    {
     "name": "stdout",
     "output_type": "stream",
     "text": [
      "FID para el grupo 13: 195.59762220939467\n"
     ]
    },
    {
     "name": "stderr",
     "output_type": "stream",
     "text": [
      "100%|██████████| 3/3 [00:35<00:00, 11.86s/it]\n",
      "100%|██████████| 4/4 [00:57<00:00, 14.26s/it]\n"
     ]
    },
    {
     "name": "stdout",
     "output_type": "stream",
     "text": [
      "FID para el grupo 14: 194.37571646318105\n"
     ]
    },
    {
     "name": "stderr",
     "output_type": "stream",
     "text": [
      "100%|██████████| 3/3 [00:35<00:00, 11.97s/it]\n",
      "100%|██████████| 4/4 [00:45<00:00, 11.47s/it]\n"
     ]
    },
    {
     "name": "stdout",
     "output_type": "stream",
     "text": [
      "FID para el grupo 15: 196.66851953932064\n"
     ]
    },
    {
     "name": "stderr",
     "output_type": "stream",
     "text": [
      "100%|██████████| 3/3 [00:24<00:00,  8.32s/it]\n",
      "100%|██████████| 4/4 [00:36<00:00,  9.09s/it]\n"
     ]
    },
    {
     "name": "stdout",
     "output_type": "stream",
     "text": [
      "FID para el grupo 16: 198.37883601267663\n"
     ]
    },
    {
     "name": "stderr",
     "output_type": "stream",
     "text": [
      "100%|██████████| 3/3 [00:22<00:00,  7.52s/it]\n",
      "100%|██████████| 4/4 [00:36<00:00,  9.02s/it]\n"
     ]
    },
    {
     "name": "stdout",
     "output_type": "stream",
     "text": [
      "FID para el grupo 17: 194.32095227247373\n"
     ]
    },
    {
     "name": "stderr",
     "output_type": "stream",
     "text": [
      "100%|██████████| 3/3 [00:22<00:00,  7.60s/it]\n",
      "100%|██████████| 4/4 [00:35<00:00,  8.99s/it]\n"
     ]
    },
    {
     "name": "stdout",
     "output_type": "stream",
     "text": [
      "FID para el grupo 18: 196.34047374233714\n"
     ]
    },
    {
     "name": "stderr",
     "output_type": "stream",
     "text": [
      "100%|██████████| 3/3 [00:22<00:00,  7.52s/it]\n",
      "100%|██████████| 4/4 [00:36<00:00,  9.06s/it]\n"
     ]
    },
    {
     "name": "stdout",
     "output_type": "stream",
     "text": [
      "FID para el grupo 19: 195.15177305816462\n"
     ]
    },
    {
     "name": "stderr",
     "output_type": "stream",
     "text": [
      "100%|██████████| 3/3 [00:23<00:00,  7.68s/it]\n",
      "100%|██████████| 4/4 [00:35<00:00,  8.93s/it]\n"
     ]
    },
    {
     "name": "stdout",
     "output_type": "stream",
     "text": [
      "FID para el grupo 20: 198.99184451044258\n",
      "FID medio: 196.04 ± 2.18\n"
     ]
    }
   ],
   "source": [
    "if __name__ == \"__main__\":\n",
    "    ruta1 = \"original_inicial\"\n",
    "    ruta2 = \"generadas_ddim/inicial\"\n",
    "\n",
    "    fids_ddim_ini = calcular_fid_aleatorio(ruta1, ruta2)\n",
    "    \n",
    "    fid_medio = np.mean(fids_ddim_ini)\n",
    "    fid_std = np.std(fids_ddim_ini)\n",
    "\n",
    "    print(f\"FID medio: {fid_medio:.2f} ± {fid_std:.2f}\")"
   ]
  },
  {
   "cell_type": "markdown",
   "metadata": {},
   "source": [
    "# generadas_ddim avanzado"
   ]
  },
  {
   "cell_type": "code",
   "execution_count": 5,
   "metadata": {},
   "outputs": [
    {
     "name": "stderr",
     "output_type": "stream",
     "text": [
      "100%|██████████| 3/3 [00:24<00:00,  8.18s/it]\n",
      "100%|██████████| 4/4 [00:36<00:00,  9.11s/it]\n"
     ]
    },
    {
     "name": "stdout",
     "output_type": "stream",
     "text": [
      "FID para el grupo 1: 186.71528809378054\n"
     ]
    },
    {
     "name": "stderr",
     "output_type": "stream",
     "text": [
      "100%|██████████| 3/3 [00:22<00:00,  7.51s/it]\n",
      "100%|██████████| 4/4 [00:36<00:00,  9.01s/it]\n"
     ]
    },
    {
     "name": "stdout",
     "output_type": "stream",
     "text": [
      "FID para el grupo 2: 186.2755236230381\n"
     ]
    },
    {
     "name": "stderr",
     "output_type": "stream",
     "text": [
      "100%|██████████| 3/3 [00:22<00:00,  7.55s/it]\n",
      "100%|██████████| 4/4 [00:38<00:00,  9.57s/it]\n"
     ]
    },
    {
     "name": "stdout",
     "output_type": "stream",
     "text": [
      "FID para el grupo 3: 185.84120235523653\n"
     ]
    },
    {
     "name": "stderr",
     "output_type": "stream",
     "text": [
      "100%|██████████| 3/3 [00:22<00:00,  7.38s/it]\n",
      "100%|██████████| 4/4 [00:32<00:00,  8.16s/it]\n"
     ]
    },
    {
     "name": "stdout",
     "output_type": "stream",
     "text": [
      "FID para el grupo 4: 181.1198267867893\n"
     ]
    },
    {
     "name": "stderr",
     "output_type": "stream",
     "text": [
      "100%|██████████| 3/3 [00:21<00:00,  7.25s/it]\n",
      "100%|██████████| 4/4 [00:32<00:00,  8.15s/it]\n"
     ]
    },
    {
     "name": "stdout",
     "output_type": "stream",
     "text": [
      "FID para el grupo 5: 181.68800694365095\n"
     ]
    },
    {
     "name": "stderr",
     "output_type": "stream",
     "text": [
      "100%|██████████| 3/3 [00:20<00:00,  6.92s/it]\n",
      "100%|██████████| 4/4 [00:32<00:00,  8.16s/it]\n"
     ]
    },
    {
     "name": "stdout",
     "output_type": "stream",
     "text": [
      "FID para el grupo 6: 181.7370828522143\n"
     ]
    },
    {
     "name": "stderr",
     "output_type": "stream",
     "text": [
      "100%|██████████| 3/3 [00:20<00:00,  6.94s/it]\n",
      "100%|██████████| 4/4 [00:32<00:00,  8.14s/it]\n"
     ]
    },
    {
     "name": "stdout",
     "output_type": "stream",
     "text": [
      "FID para el grupo 7: 183.48784390659176\n"
     ]
    },
    {
     "name": "stderr",
     "output_type": "stream",
     "text": [
      "100%|██████████| 3/3 [00:21<00:00,  7.13s/it]\n",
      "100%|██████████| 4/4 [00:35<00:00,  8.82s/it]\n"
     ]
    },
    {
     "name": "stdout",
     "output_type": "stream",
     "text": [
      "FID para el grupo 8: 181.8697346454985\n"
     ]
    },
    {
     "name": "stderr",
     "output_type": "stream",
     "text": [
      "100%|██████████| 3/3 [00:30<00:00, 10.01s/it]\n",
      "100%|██████████| 4/4 [00:35<00:00,  8.96s/it]\n"
     ]
    },
    {
     "name": "stdout",
     "output_type": "stream",
     "text": [
      "FID para el grupo 9: 181.33773768832424\n"
     ]
    },
    {
     "name": "stderr",
     "output_type": "stream",
     "text": [
      "100%|██████████| 3/3 [00:24<00:00,  8.30s/it]\n",
      "100%|██████████| 4/4 [00:42<00:00, 10.59s/it]\n"
     ]
    },
    {
     "name": "stdout",
     "output_type": "stream",
     "text": [
      "FID para el grupo 10: 180.82504516751104\n"
     ]
    },
    {
     "name": "stderr",
     "output_type": "stream",
     "text": [
      "100%|██████████| 3/3 [00:22<00:00,  7.52s/it]\n",
      "100%|██████████| 4/4 [00:35<00:00,  8.97s/it]\n"
     ]
    },
    {
     "name": "stdout",
     "output_type": "stream",
     "text": [
      "FID para el grupo 11: 181.50218327182466\n"
     ]
    },
    {
     "name": "stderr",
     "output_type": "stream",
     "text": [
      "100%|██████████| 3/3 [00:22<00:00,  7.58s/it]\n",
      "100%|██████████| 4/4 [00:41<00:00, 10.30s/it]\n"
     ]
    },
    {
     "name": "stdout",
     "output_type": "stream",
     "text": [
      "FID para el grupo 12: 182.62282977786327\n"
     ]
    },
    {
     "name": "stderr",
     "output_type": "stream",
     "text": [
      "100%|██████████| 3/3 [00:25<00:00,  8.45s/it]\n",
      "100%|██████████| 4/4 [00:37<00:00,  9.29s/it]\n"
     ]
    },
    {
     "name": "stdout",
     "output_type": "stream",
     "text": [
      "FID para el grupo 13: 181.2880441681624\n"
     ]
    },
    {
     "name": "stderr",
     "output_type": "stream",
     "text": [
      "100%|██████████| 3/3 [00:22<00:00,  7.59s/it]\n",
      "100%|██████████| 4/4 [00:35<00:00,  8.92s/it]\n"
     ]
    },
    {
     "name": "stdout",
     "output_type": "stream",
     "text": [
      "FID para el grupo 14: 179.00046381717283\n"
     ]
    },
    {
     "name": "stderr",
     "output_type": "stream",
     "text": [
      "100%|██████████| 3/3 [00:22<00:00,  7.59s/it]\n",
      "100%|██████████| 4/4 [00:36<00:00,  9.25s/it]\n"
     ]
    },
    {
     "name": "stdout",
     "output_type": "stream",
     "text": [
      "FID para el grupo 15: 182.3677380087371\n"
     ]
    },
    {
     "name": "stderr",
     "output_type": "stream",
     "text": [
      "100%|██████████| 3/3 [00:34<00:00, 11.62s/it]\n",
      "100%|██████████| 4/4 [00:55<00:00, 14.00s/it]\n"
     ]
    },
    {
     "name": "stdout",
     "output_type": "stream",
     "text": [
      "FID para el grupo 16: 180.56802511970977\n"
     ]
    },
    {
     "name": "stderr",
     "output_type": "stream",
     "text": [
      "100%|██████████| 3/3 [00:33<00:00, 11.23s/it]\n",
      "100%|██████████| 4/4 [00:56<00:00, 14.13s/it]\n"
     ]
    },
    {
     "name": "stdout",
     "output_type": "stream",
     "text": [
      "FID para el grupo 17: 183.45977653368266\n"
     ]
    },
    {
     "name": "stderr",
     "output_type": "stream",
     "text": [
      "100%|██████████| 3/3 [00:34<00:00, 11.59s/it]\n",
      "100%|██████████| 4/4 [00:55<00:00, 13.85s/it]\n"
     ]
    },
    {
     "name": "stdout",
     "output_type": "stream",
     "text": [
      "FID para el grupo 18: 182.79784714419804\n"
     ]
    },
    {
     "name": "stderr",
     "output_type": "stream",
     "text": [
      "100%|██████████| 3/3 [00:34<00:00, 11.45s/it]\n",
      "100%|██████████| 4/4 [00:56<00:00, 14.18s/it]\n"
     ]
    },
    {
     "name": "stdout",
     "output_type": "stream",
     "text": [
      "FID para el grupo 19: 179.79336867614091\n"
     ]
    },
    {
     "name": "stderr",
     "output_type": "stream",
     "text": [
      "100%|██████████| 3/3 [00:35<00:00, 11.77s/it]\n",
      "100%|██████████| 4/4 [00:56<00:00, 14.09s/it]\n"
     ]
    },
    {
     "name": "stdout",
     "output_type": "stream",
     "text": [
      "FID para el grupo 20: 179.82017646342638\n",
      "FID medio: 182.21 ± 2.05\n"
     ]
    }
   ],
   "source": [
    "if __name__ == \"__main__\":\n",
    "    ruta1 = \"original_avanzado\"\n",
    "    ruta2 = \"generadas_ddim/avanzado\"\n",
    "\n",
    "    fids_ddim_adv = calcular_fid_aleatorio(ruta1, ruta2)\n",
    "\n",
    "    fid_medio = np.mean(fids_ddim_adv)\n",
    "    fid_std = np.std(fids_ddim_adv)\n",
    "\n",
    "    print(f\"FID medio: {fid_medio:.2f} ± {fid_std:.2f}\")"
   ]
  },
  {
   "cell_type": "markdown",
   "metadata": {},
   "source": [
    "# generadas_ddim_seg_cuadrada inicial"
   ]
  },
  {
   "cell_type": "code",
   "execution_count": 7,
   "metadata": {},
   "outputs": [
    {
     "name": "stderr",
     "output_type": "stream",
     "text": [
      "100%|██████████| 3/3 [00:26<00:00,  8.72s/it]\n",
      "100%|██████████| 4/4 [00:39<00:00,  9.96s/it]\n"
     ]
    },
    {
     "name": "stdout",
     "output_type": "stream",
     "text": [
      "FID para el grupo 1: 184.9124996432916\n"
     ]
    },
    {
     "name": "stderr",
     "output_type": "stream",
     "text": [
      "100%|██████████| 3/3 [00:27<00:00,  9.05s/it]\n",
      "100%|██████████| 4/4 [00:42<00:00, 10.71s/it]\n"
     ]
    },
    {
     "name": "stdout",
     "output_type": "stream",
     "text": [
      "FID para el grupo 2: 195.85285012556608\n"
     ]
    },
    {
     "name": "stderr",
     "output_type": "stream",
     "text": [
      "100%|██████████| 3/3 [00:27<00:00,  9.33s/it]\n",
      "100%|██████████| 4/4 [00:40<00:00, 10.08s/it]\n"
     ]
    },
    {
     "name": "stdout",
     "output_type": "stream",
     "text": [
      "FID para el grupo 3: 190.21840958286958\n"
     ]
    },
    {
     "name": "stderr",
     "output_type": "stream",
     "text": [
      "100%|██████████| 3/3 [00:27<00:00,  9.04s/it]\n",
      "100%|██████████| 4/4 [00:36<00:00,  9.22s/it]\n"
     ]
    },
    {
     "name": "stdout",
     "output_type": "stream",
     "text": [
      "FID para el grupo 4: 183.14069589837138\n"
     ]
    },
    {
     "name": "stderr",
     "output_type": "stream",
     "text": [
      "100%|██████████| 3/3 [00:21<00:00,  7.17s/it]\n",
      "100%|██████████| 4/4 [00:34<00:00,  8.56s/it]\n"
     ]
    },
    {
     "name": "stdout",
     "output_type": "stream",
     "text": [
      "FID para el grupo 5: 188.36779187754397\n"
     ]
    },
    {
     "name": "stderr",
     "output_type": "stream",
     "text": [
      "100%|██████████| 3/3 [00:21<00:00,  7.23s/it]\n",
      "100%|██████████| 4/4 [00:35<00:00,  8.85s/it]\n"
     ]
    },
    {
     "name": "stdout",
     "output_type": "stream",
     "text": [
      "FID para el grupo 6: 189.52916051419442\n"
     ]
    },
    {
     "name": "stderr",
     "output_type": "stream",
     "text": [
      "100%|██████████| 3/3 [00:21<00:00,  7.06s/it]\n",
      "100%|██████████| 4/4 [00:34<00:00,  8.68s/it]\n"
     ]
    },
    {
     "name": "stdout",
     "output_type": "stream",
     "text": [
      "FID para el grupo 7: 188.26566471803207\n"
     ]
    },
    {
     "name": "stderr",
     "output_type": "stream",
     "text": [
      "100%|██████████| 3/3 [00:21<00:00,  7.28s/it]\n",
      "100%|██████████| 4/4 [00:35<00:00,  8.83s/it]\n"
     ]
    },
    {
     "name": "stdout",
     "output_type": "stream",
     "text": [
      "FID para el grupo 8: 185.23055523482972\n"
     ]
    },
    {
     "name": "stderr",
     "output_type": "stream",
     "text": [
      "100%|██████████| 3/3 [00:21<00:00,  7.04s/it]\n",
      "100%|██████████| 4/4 [00:34<00:00,  8.69s/it]\n"
     ]
    },
    {
     "name": "stdout",
     "output_type": "stream",
     "text": [
      "FID para el grupo 9: 186.63116164803958\n"
     ]
    },
    {
     "name": "stderr",
     "output_type": "stream",
     "text": [
      "100%|██████████| 3/3 [00:21<00:00,  7.09s/it]\n",
      "100%|██████████| 4/4 [00:36<00:00,  9.13s/it]\n"
     ]
    },
    {
     "name": "stdout",
     "output_type": "stream",
     "text": [
      "FID para el grupo 10: 187.0859717578623\n"
     ]
    },
    {
     "name": "stderr",
     "output_type": "stream",
     "text": [
      "100%|██████████| 3/3 [00:22<00:00,  7.50s/it]\n",
      "100%|██████████| 4/4 [00:38<00:00,  9.52s/it]\n"
     ]
    },
    {
     "name": "stdout",
     "output_type": "stream",
     "text": [
      "FID para el grupo 11: 190.06081220426222\n"
     ]
    },
    {
     "name": "stderr",
     "output_type": "stream",
     "text": [
      "100%|██████████| 3/3 [00:21<00:00,  7.28s/it]\n",
      "100%|██████████| 4/4 [00:35<00:00,  8.91s/it]\n"
     ]
    },
    {
     "name": "stdout",
     "output_type": "stream",
     "text": [
      "FID para el grupo 12: 192.01409415987519\n"
     ]
    },
    {
     "name": "stderr",
     "output_type": "stream",
     "text": [
      "100%|██████████| 3/3 [00:20<00:00,  6.81s/it]\n",
      "100%|██████████| 4/4 [00:36<00:00,  9.21s/it]\n"
     ]
    },
    {
     "name": "stdout",
     "output_type": "stream",
     "text": [
      "FID para el grupo 13: 193.41243138990083\n"
     ]
    },
    {
     "name": "stderr",
     "output_type": "stream",
     "text": [
      "100%|██████████| 3/3 [00:23<00:00,  7.72s/it]\n",
      "100%|██████████| 4/4 [00:38<00:00,  9.50s/it]\n"
     ]
    },
    {
     "name": "stdout",
     "output_type": "stream",
     "text": [
      "FID para el grupo 14: 188.96422855156518\n"
     ]
    },
    {
     "name": "stderr",
     "output_type": "stream",
     "text": [
      "100%|██████████| 3/3 [00:23<00:00,  7.87s/it]\n",
      "100%|██████████| 4/4 [00:37<00:00,  9.49s/it]\n"
     ]
    },
    {
     "name": "stdout",
     "output_type": "stream",
     "text": [
      "FID para el grupo 15: 190.86522250361156\n"
     ]
    },
    {
     "name": "stderr",
     "output_type": "stream",
     "text": [
      "100%|██████████| 3/3 [00:22<00:00,  7.63s/it]\n",
      "100%|██████████| 4/4 [00:37<00:00,  9.26s/it]\n"
     ]
    },
    {
     "name": "stdout",
     "output_type": "stream",
     "text": [
      "FID para el grupo 16: 198.51531992160568\n"
     ]
    },
    {
     "name": "stderr",
     "output_type": "stream",
     "text": [
      "100%|██████████| 3/3 [00:22<00:00,  7.57s/it]\n",
      "100%|██████████| 4/4 [00:36<00:00,  9.03s/it]\n"
     ]
    },
    {
     "name": "stdout",
     "output_type": "stream",
     "text": [
      "FID para el grupo 17: 191.10445533559624\n"
     ]
    },
    {
     "name": "stderr",
     "output_type": "stream",
     "text": [
      "100%|██████████| 3/3 [00:22<00:00,  7.53s/it]\n",
      "100%|██████████| 4/4 [00:36<00:00,  9.03s/it]\n"
     ]
    },
    {
     "name": "stdout",
     "output_type": "stream",
     "text": [
      "FID para el grupo 18: 186.97065834247093\n"
     ]
    },
    {
     "name": "stderr",
     "output_type": "stream",
     "text": [
      "100%|██████████| 3/3 [00:22<00:00,  7.63s/it]\n",
      "100%|██████████| 4/4 [00:36<00:00,  9.12s/it]\n"
     ]
    },
    {
     "name": "stdout",
     "output_type": "stream",
     "text": [
      "FID para el grupo 19: 185.69183100054119\n"
     ]
    },
    {
     "name": "stderr",
     "output_type": "stream",
     "text": [
      "100%|██████████| 3/3 [00:22<00:00,  7.44s/it]\n",
      "100%|██████████| 4/4 [00:36<00:00,  9.19s/it]\n"
     ]
    },
    {
     "name": "stdout",
     "output_type": "stream",
     "text": [
      "FID para el grupo 20: 192.09032580494517\n",
      "FID medio: 189.45 ± 3.69\n"
     ]
    }
   ],
   "source": [
    "if __name__ == \"__main__\":\n",
    "    ruta1 = \"original_inicial_seg_cuadrada\"\n",
    "    ruta2 = \"generadas_ddim_seg_cuadrada/inicial\"\n",
    "\n",
    "    fids_hf_seg_ini = calcular_fid_aleatorio(ruta1, ruta2)\n",
    "\n",
    "    fid_medio = np.mean(fids_hf_seg_ini)\n",
    "    fid_std = np.std(fids_hf_seg_ini)\n",
    "\n",
    "    print(f\"FID medio: {fid_medio:.2f} ± {fid_std:.2f}\")"
   ]
  },
  {
   "cell_type": "markdown",
   "metadata": {},
   "source": [
    "# generadas_ddim_seg_cuadrada avanzado"
   ]
  },
  {
   "cell_type": "code",
   "execution_count": 8,
   "metadata": {},
   "outputs": [
    {
     "name": "stderr",
     "output_type": "stream",
     "text": [
      "100%|██████████| 3/3 [00:22<00:00,  7.42s/it]\n",
      "100%|██████████| 4/4 [00:34<00:00,  8.59s/it]\n"
     ]
    },
    {
     "name": "stdout",
     "output_type": "stream",
     "text": [
      "FID para el grupo 1: 234.5348246758469\n"
     ]
    },
    {
     "name": "stderr",
     "output_type": "stream",
     "text": [
      "100%|██████████| 3/3 [00:21<00:00,  7.12s/it]\n",
      "100%|██████████| 4/4 [00:34<00:00,  8.60s/it]\n"
     ]
    },
    {
     "name": "stdout",
     "output_type": "stream",
     "text": [
      "FID para el grupo 2: 253.41607645629188\n"
     ]
    },
    {
     "name": "stderr",
     "output_type": "stream",
     "text": [
      "100%|██████████| 3/3 [00:22<00:00,  7.37s/it]\n",
      "100%|██████████| 4/4 [00:35<00:00,  8.88s/it]\n"
     ]
    },
    {
     "name": "stdout",
     "output_type": "stream",
     "text": [
      "FID para el grupo 3: 245.35674945063266\n"
     ]
    },
    {
     "name": "stderr",
     "output_type": "stream",
     "text": [
      "100%|██████████| 3/3 [00:21<00:00,  7.28s/it]\n",
      "100%|██████████| 4/4 [00:35<00:00,  8.89s/it]\n"
     ]
    },
    {
     "name": "stdout",
     "output_type": "stream",
     "text": [
      "FID para el grupo 4: 249.0365784152798\n"
     ]
    },
    {
     "name": "stderr",
     "output_type": "stream",
     "text": [
      "100%|██████████| 3/3 [00:22<00:00,  7.39s/it]\n",
      "100%|██████████| 4/4 [00:35<00:00,  8.99s/it]\n"
     ]
    },
    {
     "name": "stdout",
     "output_type": "stream",
     "text": [
      "FID para el grupo 5: 249.0430538898302\n"
     ]
    },
    {
     "name": "stderr",
     "output_type": "stream",
     "text": [
      "100%|██████████| 3/3 [00:21<00:00,  7.33s/it]\n",
      "100%|██████████| 4/4 [00:35<00:00,  8.80s/it]\n"
     ]
    },
    {
     "name": "stdout",
     "output_type": "stream",
     "text": [
      "FID para el grupo 6: 245.59875943832884\n"
     ]
    },
    {
     "name": "stderr",
     "output_type": "stream",
     "text": [
      "100%|██████████| 3/3 [00:21<00:00,  7.14s/it]\n",
      "100%|██████████| 4/4 [00:34<00:00,  8.69s/it]\n"
     ]
    },
    {
     "name": "stdout",
     "output_type": "stream",
     "text": [
      "FID para el grupo 7: 236.08141898027532\n"
     ]
    },
    {
     "name": "stderr",
     "output_type": "stream",
     "text": [
      "100%|██████████| 3/3 [00:21<00:00,  7.20s/it]\n",
      "100%|██████████| 4/4 [00:35<00:00,  8.80s/it]\n"
     ]
    },
    {
     "name": "stdout",
     "output_type": "stream",
     "text": [
      "FID para el grupo 8: 243.46398172709036\n"
     ]
    },
    {
     "name": "stderr",
     "output_type": "stream",
     "text": [
      "100%|██████████| 3/3 [00:22<00:00,  7.41s/it]\n",
      "100%|██████████| 4/4 [00:34<00:00,  8.74s/it]\n"
     ]
    },
    {
     "name": "stdout",
     "output_type": "stream",
     "text": [
      "FID para el grupo 9: 237.4422622929631\n"
     ]
    },
    {
     "name": "stderr",
     "output_type": "stream",
     "text": [
      "100%|██████████| 3/3 [00:21<00:00,  7.26s/it]\n",
      "100%|██████████| 4/4 [00:34<00:00,  8.71s/it]\n"
     ]
    },
    {
     "name": "stdout",
     "output_type": "stream",
     "text": [
      "FID para el grupo 10: 239.28497795126606\n"
     ]
    },
    {
     "name": "stderr",
     "output_type": "stream",
     "text": [
      "100%|██████████| 3/3 [00:22<00:00,  7.36s/it]\n",
      "100%|██████████| 4/4 [00:35<00:00,  8.96s/it]\n"
     ]
    },
    {
     "name": "stdout",
     "output_type": "stream",
     "text": [
      "FID para el grupo 11: 246.9515830073844\n"
     ]
    },
    {
     "name": "stderr",
     "output_type": "stream",
     "text": [
      "100%|██████████| 3/3 [00:22<00:00,  7.40s/it]\n",
      "100%|██████████| 4/4 [00:35<00:00,  8.81s/it]\n"
     ]
    },
    {
     "name": "stdout",
     "output_type": "stream",
     "text": [
      "FID para el grupo 12: 244.7440838534878\n"
     ]
    },
    {
     "name": "stderr",
     "output_type": "stream",
     "text": [
      "100%|██████████| 3/3 [00:21<00:00,  7.25s/it]\n",
      "100%|██████████| 4/4 [00:34<00:00,  8.70s/it]\n"
     ]
    },
    {
     "name": "stdout",
     "output_type": "stream",
     "text": [
      "FID para el grupo 13: 243.40659791001244\n"
     ]
    },
    {
     "name": "stderr",
     "output_type": "stream",
     "text": [
      "100%|██████████| 3/3 [00:21<00:00,  7.30s/it]\n",
      "100%|██████████| 4/4 [00:35<00:00,  8.79s/it]\n"
     ]
    },
    {
     "name": "stdout",
     "output_type": "stream",
     "text": [
      "FID para el grupo 14: 239.34156833913715\n"
     ]
    },
    {
     "name": "stderr",
     "output_type": "stream",
     "text": [
      "100%|██████████| 3/3 [00:21<00:00,  7.19s/it]\n",
      "100%|██████████| 4/4 [00:34<00:00,  8.68s/it]\n"
     ]
    },
    {
     "name": "stdout",
     "output_type": "stream",
     "text": [
      "FID para el grupo 15: 241.59194290731588\n"
     ]
    },
    {
     "name": "stderr",
     "output_type": "stream",
     "text": [
      "100%|██████████| 3/3 [00:21<00:00,  7.24s/it]\n",
      "100%|██████████| 4/4 [00:35<00:00,  8.75s/it]\n"
     ]
    },
    {
     "name": "stdout",
     "output_type": "stream",
     "text": [
      "FID para el grupo 16: 238.27457097983785\n"
     ]
    },
    {
     "name": "stderr",
     "output_type": "stream",
     "text": [
      "100%|██████████| 3/3 [00:22<00:00,  7.33s/it]\n",
      "100%|██████████| 4/4 [00:34<00:00,  8.71s/it]\n"
     ]
    },
    {
     "name": "stdout",
     "output_type": "stream",
     "text": [
      "FID para el grupo 17: 248.4665695639609\n"
     ]
    },
    {
     "name": "stderr",
     "output_type": "stream",
     "text": [
      "100%|██████████| 3/3 [00:21<00:00,  7.33s/it]\n",
      "100%|██████████| 4/4 [00:35<00:00,  8.82s/it]\n"
     ]
    },
    {
     "name": "stdout",
     "output_type": "stream",
     "text": [
      "FID para el grupo 18: 241.43756605747717\n"
     ]
    },
    {
     "name": "stderr",
     "output_type": "stream",
     "text": [
      "100%|██████████| 3/3 [00:22<00:00,  7.34s/it]\n",
      "100%|██████████| 4/4 [00:36<00:00,  9.02s/it]\n"
     ]
    },
    {
     "name": "stdout",
     "output_type": "stream",
     "text": [
      "FID para el grupo 19: 236.3021889998608\n"
     ]
    },
    {
     "name": "stderr",
     "output_type": "stream",
     "text": [
      "100%|██████████| 3/3 [00:21<00:00,  7.28s/it]\n",
      "100%|██████████| 4/4 [00:34<00:00,  8.70s/it]\n"
     ]
    },
    {
     "name": "stdout",
     "output_type": "stream",
     "text": [
      "FID para el grupo 20: 238.60563901141813\n",
      "FID medio: 242.62 ± 5.04\n"
     ]
    }
   ],
   "source": [
    "if __name__ == \"__main__\":\n",
    "    ruta1 = \"original_avanzado_seg_cuadrada\"\n",
    "    ruta2 = \"generadas_ddim_seg_cuadrada/avanzado\"\n",
    "\n",
    "    fids_hf_seg_adv = calcular_fid_aleatorio(ruta1, ruta2)\n",
    "\n",
    "    fid_medio = np.mean(fids_hf_seg_adv)\n",
    "    fid_std = np.std(fids_hf_seg_adv)\n",
    "\n",
    "    print(f\"FID medio: {fid_medio:.2f} ± {fid_std:.2f}\")"
   ]
  },
  {
   "cell_type": "markdown",
   "metadata": {},
   "source": [
    "# Boxlot"
   ]
  },
  {
   "cell_type": "code",
   "execution_count": null,
   "metadata": {},
   "outputs": [
    {
     "data": {
      "image/png": "[encoded data removed]",
      "text/plain": [
       "<Figure size 1200x600 with 2 Axes>"
      ]
     },
     "metadata": {},
     "output_type": "display_data"
    }
   ],
   "source": [
    "import matplotlib.pyplot as plt\n",
    "\n",
    "fig, axes = plt.subplots(1, 2, figsize=(12, 6), sharey=True)\n",
    "\n",
    "# Boxplot para estadios iniciales\n",
    "axes[0].boxplot([fids_hf_ini, fids_ddim_ini, fids_hf_seg_ini], patch_artist=True)\n",
    "axes[0].set_title(\"Estadios iniciales\")\n",
    "axes[0].set_xticklabels([\"DDPM preentrenado\", \"DDIM\", \"DDIM \\n segmentación cuadrada\"])\n",
    "axes[0].set_ylabel(\"FID Score\")\n",
    "\n",
    "# Boxplot para estadios avanzados\n",
    "axes[1].boxplot([fids_hf_adv, fids_ddim_adv, fids_hf_seg_adv], patch_artist=True)\n",
    "axes[1].set_title(\"Estadios avanzados\")\n",
    "axes[1].set_xticklabels([\"DDPM preentrenado\", \"DDIM\", \"DDIM \\n segmentación cuadrada\"])\n",
    "\n",
    "plt.tight_layout()\n",
    "plt.show()"
   ]
  }
 ],
 "metadata": {
  "kernelspec": {
   "display_name": "AP",
   "language": "python",
   "name": "python3"
  },
  "language_info": {
   "codemirror_mode": {
    "name": "ipython",
    "version": 3
   },
   "file_extension": ".py",
   "mimetype": "text/x-python",
   "name": "python",
   "nbconvert_exporter": "python",
   "pygments_lexer": "ipython3",
   "version": "3.11.8"
  }
 },
 "nbformat": 4,
 "nbformat_minor": 2
}
